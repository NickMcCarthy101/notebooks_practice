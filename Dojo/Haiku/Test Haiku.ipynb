{
 "cells": [
  {
   "cell_type": "code",
   "execution_count": 1,
   "metadata": {
    "collapsed": true
   },
   "outputs": [],
   "source": [
    "import pytest\n",
    "from haiku_checker import split_lines, count_word_syllables, count_line_syllables, is_haiku\n",
    "\n",
    "\n",
    "\n",
    "@pytest.fixture()\n",
    "def fake_poem():\n",
    "    poem = \"Is this a haiku//Who knows//Hmmmmmm\"\n",
    "    return poem\n",
    "\n",
    "@pytest.fixture()\n",
    "def real_poem():\n",
    "    poem = \"Is this a haiku//Who knows if it is true huh//The Pineapple knows\"\n",
    "    return poem\n",
    "\n",
    "\n",
    "class TestHaiku():\n",
    "\n",
    "    def test_split_lines(self, fake_poem):\n",
    "\n",
    "\n",
    "        lines = split_lines(fake_poem)\n",
    "\n",
    "        assert len(lines) == fake_poem.count('//') + 1\n",
    "        assert lines[0] == 'Is this a haiku'\n",
    "        assert lines[1] == 'Who knows'\n",
    "        assert lines[2] == 'Hmmmmmm'\n",
    "\n",
    "    def test_count_word_syllables(self):\n",
    "        assert count_word_syllables('Hello') == 2\n",
    "        assert count_word_syllables('He') == 1\n",
    "        assert count_word_syllables('These') == 2\n",
    "        assert count_word_syllables('Howdy') == 2\n",
    "        assert count_word_syllables('Pineapple') == 3\n",
    "        assert count_word_syllables('Is') == 1\n",
    "        assert count_word_syllables('A') == 1\n",
    "        assert count_word_syllables('haiku') == 2\n",
    "        assert count_word_syllables('who') == 1\n",
    "        assert count_word_syllables('knows') == 1\n",
    "\n",
    "    def test_count_line_syllables(self):\n",
    "\n",
    "        line = \"Hello he these howdy pineapple\"\n",
    "        assert count_line_syllables(line) == 10\n",
    "\n",
    "\n",
    "    def test_is_haiku(self, fake_poem, real_poem):\n",
    "\n",
    "        answer = is_haiku(fake_poem)\n",
    "\n",
    "        assert answer is False\n",
    "\n",
    "        answer = is_haiku(real_poem)\n",
    "\n",
    "        assert answer is True\n",
    "    "
   ]
  },
  {
   "cell_type": "code",
   "execution_count": null,
   "metadata": {
    "collapsed": true
   },
   "outputs": [],
   "source": []
  }
 ],
 "metadata": {
  "kernelspec": {
   "display_name": "Python 3",
   "language": "python",
   "name": "python3"
  },
  "language_info": {
   "codemirror_mode": {
    "name": "ipython",
    "version": 3
   },
   "file_extension": ".py",
   "mimetype": "text/x-python",
   "name": "python",
   "nbconvert_exporter": "python",
   "pygments_lexer": "ipython3",
   "version": "3.6.3"
  }
 },
 "nbformat": 4,
 "nbformat_minor": 2
}
