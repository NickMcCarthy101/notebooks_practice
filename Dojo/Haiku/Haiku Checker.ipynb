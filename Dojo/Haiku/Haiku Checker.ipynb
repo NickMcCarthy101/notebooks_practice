{
 "cells": [
  {
   "cell_type": "code",
   "execution_count": 1,
   "metadata": {
    "collapsed": true
   },
   "outputs": [],
   "source": [
    "def split_lines(text):\n",
    "    return text.split(\"//\")\n",
    "\n",
    "\n",
    "def is_constonant(char):\n",
    "\n",
    "    constonants = \"bcdfghjklmnpqrstvxz\"\n",
    "    vowels = \"aeiouy\"\n",
    "\n",
    "    return char.lower() in constonants\n",
    "\n",
    "\n",
    "def is_haiku(text):\n",
    "\n",
    "    lines = split_lines(text)\n",
    "    syllables_per_line = [count_line_syllables(line) for line in lines]\n",
    "    print(syllables_per_line)\n",
    "\n",
    "    return syllables_per_line == [5, 7, 5]\n",
    "\n",
    "\n",
    "def count_line_syllables(line):\n",
    "    words = line.split()\n",
    "    print(words)\n",
    "    count = sum([count_word_syllables(w) for w in words])\n",
    "    return count\n",
    "\n",
    "\n",
    "def count_word_syllables(word):\n",
    "\n",
    "    count = 1\n",
    "\n",
    "    current_is_constonant = True\n",
    "    char_is_constonant = True\n",
    "\n",
    "    if not is_constonant(word[0]) and any(is_constonant(x) for x in word):\n",
    "        count -= 1\n",
    "\n",
    "    for char in word:\n",
    "        char_is_constonant = is_constonant(char)\n",
    "\n",
    "        if char_is_constonant:\n",
    "            if not current_is_constonant:\n",
    "                count += 1\n",
    "\n",
    "        current_is_constonant = char_is_constonant\n",
    "\n",
    "    return count\n",
    "\n",
    "# def count_word_syllables(word):\n",
    "#\n",
    "#     count = 0\n",
    "#\n",
    "#     current_is_constonant = False\n",
    "#     char_is_constonant = False\n",
    "#\n",
    "#     for char in word:\n",
    "#         char_is_constonant = is_constonant(char)\n",
    "#\n",
    "#         if not char_is_constonant:\n",
    "#             if current_is_constonant:\n",
    "#                 count += 1\n",
    "#\n",
    "#         current_is_constonant = char_is_constonant\n",
    "#\n",
    "#     return count\n",
    "\n",
    "\n",
    "def main():\n",
    "    return\n",
    "\n",
    "if __name__ == \"__main__\":\n",
    "    main()"
   ]
  },
  {
   "cell_type": "code",
   "execution_count": null,
   "metadata": {
    "collapsed": true
   },
   "outputs": [],
   "source": []
  }
 ],
 "metadata": {
  "kernelspec": {
   "display_name": "Python 3",
   "language": "python",
   "name": "python3"
  },
  "language_info": {
   "codemirror_mode": {
    "name": "ipython",
    "version": 3
   },
   "file_extension": ".py",
   "mimetype": "text/x-python",
   "name": "python",
   "nbconvert_exporter": "python",
   "pygments_lexer": "ipython3",
   "version": "3.6.3"
  }
 },
 "nbformat": 4,
 "nbformat_minor": 2
}
