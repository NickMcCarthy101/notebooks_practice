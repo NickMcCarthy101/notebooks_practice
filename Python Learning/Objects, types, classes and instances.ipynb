{
 "cells": [
  {
   "cell_type": "markdown",
   "metadata": {},
   "source": [
    "# **Python objects,types, classes, and instances - a glossary**\n"
   ]
  },
  {
   "cell_type": "markdown",
   "metadata": {},
   "source": [
    ">Everything in python is an object \n",
    "\n",
    ">Each of these have types and unique ID's'"
   ]
  },
  {
   "cell_type": "code",
   "execution_count": 2,
   "metadata": {},
   "outputs": [
    {
     "data": {
      "text/plain": [
       "(function, 2182200912480)"
      ]
     },
     "execution_count": 2,
     "metadata": {},
     "output_type": "execute_result"
    }
   ],
   "source": [
    "def foo(): pass #pass clearly just allows the defined class/type \n",
    "type(foo),id(foo)"
   ]
  },
  {
   "cell_type": "markdown",
   "metadata": {},
   "source": [
    "> Everything in Python has a type, which determines the operations that the objects supports and also defines the possible values for objects of that type. "
   ]
  },
  {
   "cell_type": "code",
   "execution_count": 3,
   "metadata": {},
   "outputs": [
    {
     "data": {
      "text/plain": [
       "int"
      ]
     },
     "execution_count": 3,
     "metadata": {},
     "output_type": "execute_result"
    }
   ],
   "source": [
    "type(42) #type can be discovered by calling the type builtin function"
   ]
  },
  {
   "cell_type": "code",
   "execution_count": 4,
   "metadata": {},
   "outputs": [
    {
     "data": {
      "text/plain": [
       "type"
      ]
     },
     "execution_count": 4,
     "metadata": {},
     "output_type": "execute_result"
    }
   ],
   "source": [
    "type(type(42))\n"
   ]
  },
  {
   "cell_type": "markdown",
   "metadata": {},
   "source": [
    "**Classes**"
   ]
  },
  {
   "cell_type": "code",
   "execution_count": 5,
   "metadata": {},
   "outputs": [
    {
     "data": {
      "text/plain": [
       "__main__.Joe"
      ]
     },
     "execution_count": 5,
     "metadata": {},
     "output_type": "execute_result"
    }
   ],
   "source": [
    "class Joe: pass #Used when a statemet is required syntactically, but you don't want any command or code to execute. \n",
    "                #The pass statement is a null operation; nothing happens when it executes\n",
    "j = Joe()   #__main__. is the name of the scope in which top-level code executes\n",
    "type(j) # a class is a mechanism that allows one to create new user-defined types from Python code"
   ]
  },
  {
   "cell_type": "markdown",
   "metadata": {},
   "source": [
    "> Above, Joe has been created as a user-defined type. \n",
    "\n",
    "> j is an instance of the class Joe (i.e it's an object and its type is Joe)\n"
   ]
  },
  {
   "cell_type": "code",
   "execution_count": 6,
   "metadata": {},
   "outputs": [
    {
     "data": {
      "text/plain": [
       "type"
      ]
     },
     "execution_count": 6,
     "metadata": {},
     "output_type": "execute_result"
    }
   ],
   "source": [
    "type(type(j))"
   ]
  },
  {
   "cell_type": "markdown",
   "metadata": {},
   "source": [
    "> **Class and type basically interchangeable. Class is better described as \"user-defined type, created with the 'class' construct\"**"
   ]
  },
  {
   "cell_type": "markdown",
   "metadata": {},
   "source": [
    "**Instance is synonymous to \"object\". Objects are instances of types. So \"42 is an instance of the type int\" is equivalent to \"42 is an int object\"**"
   ]
  },
  {
   "cell_type": "markdown",
   "metadata": {
    "collapsed": true
   },
   "source": [
    "# Methods"
   ]
  },
  {
   "cell_type": "markdown",
   "metadata": {},
   "source": [
    "The actions that someone can apply to a particular object "
   ]
  },
  {
   "cell_type": "markdown",
   "metadata": {},
   "source": [
    "*__________________*"
   ]
  },
  {
   "cell_type": "markdown",
   "metadata": {},
   "source": [
    "# Class and Object"
   ]
  },
  {
   "cell_type": "markdown",
   "metadata": {},
   "source": [
    "A method is a  piece of code that is called by name that is assoicated with an object.In most respects it is identical to a function except for two key differences. \n",
    "\n",
    "An object is an instance of a class, the class is the definition.\n",
    "The object is an instance of that data"
   ]
  },
  {
   "cell_type": "code",
   "execution_count": 2,
   "metadata": {},
   "outputs": [
    {
     "name": "stdout",
     "output_type": "stream",
     "text": [
      "I am a Dog\n"
     ]
    }
   ],
   "source": [
    "#ie \n",
    "class Dog: #Often good to name a class with an uppercase letter\n",
    "    def my_method(self):\n",
    "        print (\"I am a Dog\")\n",
    "dog = Dog()\n",
    "dog.my_method() #Prints \"I am a Dog\""
   ]
  },
  {
   "cell_type": "code",
   "execution_count": null,
   "metadata": {},
   "outputs": [],
   "source": [
    "#notice how the syntax goes: class.def.parameter() ////// always has the brackets at the end"
   ]
  },
  {
   "cell_type": "code",
   "execution_count": null,
   "metadata": {},
   "outputs": [],
   "source": []
  },
  {
   "cell_type": "markdown",
   "metadata": {},
   "source": [
    "**Functions** "
   ]
  },
  {
   "cell_type": "code",
   "execution_count": 1,
   "metadata": {},
   "outputs": [],
   "source": [
    "# basically is the above"
   ]
  },
  {
   "cell_type": "code",
   "execution_count": null,
   "metadata": {},
   "outputs": [],
   "source": [
    "def foo(x):  # x is the function parameter\n",
    "    print(\"x = \" + str(x))"
   ]
  },
  {
   "cell_type": "code",
   "execution_count": null,
   "metadata": {},
   "outputs": [],
   "source": [
    "foo(5) #pass 5 to foo(). Here 5 is a an argument passed to function foo. "
   ]
  },
  {
   "cell_type": "markdown",
   "metadata": {},
   "source": [
    "# Classes and another definition"
   ]
  },
  {
   "cell_type": "markdown",
   "metadata": {},
   "source": [
    "\"An object combines variables and functions into a single entity. Objects get their variables and functions from classes. Classes are essentially templates for creating your objects. You can think of an object as a single data structure that contains data as well as functions. Functions of objects are called methods. \""
   ]
  },
  {
   "cell_type": "code",
   "execution_count": 3,
   "metadata": {},
   "outputs": [],
   "source": [
    "class MyClass:\n",
    "    variable = 10\n",
    "\n",
    "    def foo(self):   # we'll explain self parameter later in task 4\n",
    "        print(\"Hello from function foo\")\n",
    "\n",
    "my_object = MyClass()  # variable \"my_object\" holds an object of the class \"MyClass\" that contains the variable and the \"foo\" function\n"
   ]
  },
  {
   "cell_type": "markdown",
   "metadata": {},
   "source": [
    "To access a variable inside an object, see example below. You can change the values of variables defined in a class for different instances (objects) of this class. \n"
   ]
  },
  {
   "cell_type": "code",
   "execution_count": 4,
   "metadata": {},
   "outputs": [
    {
     "name": "stdout",
     "output_type": "stream",
     "text": [
      "3\n",
      "2\n",
      "Hello from function foo\n",
      "1\n"
     ]
    }
   ],
   "source": [
    "class MyClass:\n",
    "    variable1 = 1\n",
    "    variable2 = 2\n",
    "\n",
    "    def foo(self):     # we'll explain self parameter later in task 4\n",
    "        print(\"Hello from function foo\")\n",
    "\n",
    "my_object = MyClass()\n",
    "my_object1 = MyClass()\n",
    "\n",
    "my_object.variable2 = 3     # change value stored in variable2 in my_object\n",
    "\n",
    "print(my_object.variable2)\n",
    "print(my_object1.variable2)\n",
    "\n",
    "my_object.foo()   # call method foo() of object my_object\n",
    "\n",
    "print(my_object.variable1)\n",
    "\n"
   ]
  },
  {
   "cell_type": "markdown",
   "metadata": {},
   "source": [
    "Another example below.."
   ]
  },
  {
   "cell_type": "code",
   "execution_count": 5,
   "metadata": {},
   "outputs": [
    {
     "name": "stdout",
     "output_type": "stream",
     "text": [
      "This is a blue car.\n",
      "This is a red car.\n"
     ]
    }
   ],
   "source": [
    "class Car:\n",
    "    color = \"\"\n",
    "    def description(self):\n",
    "        description_string = \"This is a %s car.\" % self.color    # we'll explain self parameter later in task 4\n",
    "        return description_string\n",
    "\n",
    "car1 = Car()\n",
    "car2 = Car()\n",
    "\n",
    "car1.color = \"blue\"\n",
    "car2.color = \"red\"\n",
    "\n",
    "print(car1.description())\n",
    "print(car2.description())\n"
   ]
  },
  {
   "cell_type": "markdown",
   "metadata": {},
   "source": [
    "**Explanation of Self**"
   ]
  },
  {
   "cell_type": "markdown",
   "metadata": {},
   "source": [
    "The self parameter is a Python convention. self is the first parameter passed to any class method. Python will use the self parameter to refer to the object being created."
   ]
  },
  {
   "cell_type": "code",
   "execution_count": 13,
   "metadata": {},
   "outputs": [],
   "source": [
    "class Complex:\n",
    "    def create(self, real_part, imag_part):\n",
    "        self.r = real_part\n",
    "        self.i = imag_part\n",
    "\n",
    "class Calculator:\n",
    "    current = 0\n",
    "\n",
    "    def add(self, amount):\n",
    "        self.current += amount\n",
    "\n",
    "    def get_current(self):\n",
    "        return self.current\n"
   ]
  },
  {
   "cell_type": "markdown",
   "metadata": {},
   "source": [
    "**INIT METHOD**"
   ]
  },
  {
   "cell_type": "markdown",
   "metadata": {},
   "source": [
    "__init__ function is used to initialize the objects it creates. __init__ is short for \"initialize\". __init__() always takes at least one argument, self, which refers to the object being created. __init__() function sets up each object the class creates. "
   ]
  },
  {
   "cell_type": "code",
   "execution_count": null,
   "metadata": {},
   "outputs": [],
   "source": [
    "class Square:\n",
    "\n",
    "    def __init__(self):    # special method __init__\n",
    "        self.sides = 4\n",
    "\n",
    "square = Square()\n",
    "print(square.sides)\n",
    "\n",
    "class Car:\n",
    "    def __init__(self, color):\n",
    "        self.color = color\n",
    "\n",
    "car = Car(\"blue\")    # Note: you should not pass self parameter explicitly, only color parameter\n",
    "\n",
    "print(car.color)\n"
   ]
  },
  {
   "cell_type": "code",
   "execution_count": null,
   "metadata": {},
   "outputs": [],
   "source": []
  },
  {
   "cell_type": "code",
   "execution_count": null,
   "metadata": {},
   "outputs": [],
   "source": []
  },
  {
   "cell_type": "code",
   "execution_count": null,
   "metadata": {},
   "outputs": [],
   "source": []
  }
 ],
 "metadata": {
  "kernelspec": {
   "display_name": "Python 3",
   "language": "python",
   "name": "python3"
  },
  "language_info": {
   "codemirror_mode": {
    "name": "ipython",
    "version": 3
   },
   "file_extension": ".py",
   "mimetype": "text/x-python",
   "name": "python",
   "nbconvert_exporter": "python",
   "pygments_lexer": "ipython3",
   "version": "3.6.4"
  }
 },
 "nbformat": 4,
 "nbformat_minor": 2
}
