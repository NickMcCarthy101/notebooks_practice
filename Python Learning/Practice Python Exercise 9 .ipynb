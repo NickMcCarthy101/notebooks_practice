{
 "cells": [
  {
   "cell_type": "markdown",
   "metadata": {},
   "source": [
    "# Practice Python: Exercise 9 \n",
    "# Guessing Game One "
   ]
  },
  {
   "cell_type": "markdown",
   "metadata": {},
   "source": [
    "Generate a random number between 1 and 9 (including 1 and 9). Ask the user to guess the number, then tell them whether they guessed too low, too high, or exactly right. (Hint: remember to use the user input lessons from the very first exercise)"
   ]
  },
  {
   "cell_type": "code",
   "execution_count": null,
   "metadata": {
    "collapsed": true
   },
   "outputs": [],
   "source": [
    "import random"
   ]
  },
  {
   "cell_type": "code",
   "execution_count": null,
   "metadata": {},
   "outputs": [],
   "source": [
    "#user_input = int(input(\"Please enter a number between 1 and 9:\") )\n",
    "\n",
    "\n",
    "a = random.randint(1,9)\n",
    "print (a)\n",
    "\n",
    "while user_input != \"Exit\":\n",
    "    \n",
    "    user_input = int(input(\"Please enter a number between 1 and 9:\") )\n",
    "    x = \"Would you like to play again?\"\n",
    "    \n",
    "    if user_input == a:\n",
    "        print ((\"Congratulations\", str(input(x))))\n",
    "    \n",
    "    if user_input > a:\n",
    "        print((\"Unlucky, your guess was too high\", str(input(x))))\n",
    "    \n",
    "    if user_input < a:\n",
    "        print((\"Unlucky, your guess was too low\", str(input(x))))\n",
    "     \n",
    "    else: \n",
    "        print(\"Thank you for playing\")\n",
    "    \n",
    "\n"
   ]
  },
  {
   "cell_type": "code",
   "execution_count": null,
   "metadata": {
    "collapsed": true
   },
   "outputs": [],
   "source": []
  }
 ],
 "metadata": {
  "kernelspec": {
   "display_name": "Python 3",
   "language": "python",
   "name": "python3"
  },
  "language_info": {
   "codemirror_mode": {
    "name": "ipython",
    "version": 3
   },
   "file_extension": ".py",
   "mimetype": "text/x-python",
   "name": "python",
   "nbconvert_exporter": "python",
   "pygments_lexer": "ipython3",
   "version": "3.6.3"
  }
 },
 "nbformat": 4,
 "nbformat_minor": 2
}
