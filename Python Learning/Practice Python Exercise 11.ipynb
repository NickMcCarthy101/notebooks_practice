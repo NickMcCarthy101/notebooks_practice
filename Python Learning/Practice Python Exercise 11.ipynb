{
 "cells": [
  {
   "cell_type": "markdown",
   "metadata": {},
   "source": [
    "# Check Primality Functions"
   ]
  },
  {
   "cell_type": "markdown",
   "metadata": {},
   "source": [
    "**Example code for function:**"
   ]
  },
  {
   "cell_type": "code",
   "execution_count": 7,
   "metadata": {},
   "outputs": [
    {
     "name": "stdout",
     "output_type": "stream",
     "text": [
      "Give me your age: 21\n",
      "Give me your school year10\n",
      "You are over the age of 15, specifically, aged  21\n",
      "You are in grade 10\n"
     ]
    }
   ],
   "source": [
    "def get_age():\n",
    "    return int(input(\"Give me your age: \"))\n",
    "\n",
    "def get_school_year():\n",
    "    return int(input(\"Give me your school year\"))\n",
    "\n",
    "age = get_age()\n",
    "school_year = get_school_year()\n",
    "\n",
    "if age > 15:\n",
    "    print(\"You are over the age of 15, specifically, aged  \" + str(age))\n",
    "    \n",
    "else: \n",
    "    print(\"You are below the age of 15\")\n",
    "    \n",
    "print(\"You are in grade \" + str(school_year))"
   ]
  },
  {
   "cell_type": "code",
   "execution_count": null,
   "metadata": {
    "collapsed": true
   },
   "outputs": [],
   "source": []
  }
 ],
 "metadata": {
  "kernelspec": {
   "display_name": "Python 3",
   "language": "python",
   "name": "python3"
  },
  "language_info": {
   "codemirror_mode": {
    "name": "ipython",
    "version": 3
   },
   "file_extension": ".py",
   "mimetype": "text/x-python",
   "name": "python",
   "nbconvert_exporter": "python",
   "pygments_lexer": "ipython3",
   "version": "3.6.4"
  }
 },
 "nbformat": 4,
 "nbformat_minor": 2
}
