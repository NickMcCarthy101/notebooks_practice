{
 "cells": [
  {
   "cell_type": "markdown",
   "metadata": {},
   "source": [
    "# Python Guide from Documentation \n"
   ]
  },
  {
   "cell_type": "markdown",
   "metadata": {},
   "source": [
    "**Keywords** (identifiers used as reserved words, or keywords of the language, and cannot be used as ordinary identifiers). Must be spelled exactly as written here: "
   ]
  },
  {
   "cell_type": "code",
   "execution_count": 1,
   "metadata": {
    "collapsed": true
   },
   "outputs": [],
   "source": [
    "#False      class      finally    is         return\n",
    "#None       continue   for        lambda     try\n",
    "#True       def        from       nonlocal   while\n",
    "#and        del        global     not        with\n",
    "#as         elif       if         or         yield\n",
    "#assert     else       import     pass\n",
    "#break      except     in         raise"
   ]
  },
  {
   "cell_type": "code",
   "execution_count": 2,
   "metadata": {
    "collapsed": true
   },
   "outputs": [],
   "source": [
    "#Can find a list of the keywords here \n",
    "import keyword\n",
    "keyword.kwlist\n",
    "import math"
   ]
  },
  {
   "cell_type": "code",
   "execution_count": 3,
   "metadata": {
    "collapsed": true
   },
   "outputs": [],
   "source": [
    "message = \"The surface of the circle = \" #either1 or 3 quotation marks. 2 is for a definition. \n",
    "pi =3.14 \n",
    "radius = 1. "
   ]
  },
  {
   "cell_type": "code",
   "execution_count": 4,
   "metadata": {},
   "outputs": [
    {
     "name": "stdout",
     "output_type": "stream",
     "text": [
      "3.14\n"
     ]
    }
   ],
   "source": [
    "surface = pi * radius**2\n",
    "print (surface)"
   ]
  },
  {
   "cell_type": "code",
   "execution_count": 5,
   "metadata": {},
   "outputs": [
    {
     "name": "stdout",
     "output_type": "stream",
     "text": [
      "The surface of the circle =  3.14\n"
     ]
    }
   ],
   "source": [
    "print(message,surface) # If the surface variable was a string, you could concatentate them using the + sign. "
   ]
  },
  {
   "cell_type": "code",
   "execution_count": 6,
   "metadata": {},
   "outputs": [
    {
     "name": "stdout",
     "output_type": "stream",
     "text": [
      "This is a circle of radius 1.0\n",
      "This is a circle of radius 1.0 and surface 3.14\n"
     ]
    }
   ],
   "source": [
    "print('This is a circle of radius %s' % radius) # The first % goes in with the s at the start, converting it to a string \n",
    "print('This is a circle of radius %s and surface %s' % (radius, surface)) # The second % goes outside the quote. "
   ]
  },
  {
   "cell_type": "markdown",
   "metadata": {},
   "source": [
    "**Functions**"
   ]
  },
  {
   "cell_type": "code",
   "execution_count": 7,
   "metadata": {
    "collapsed": true
   },
   "outputs": [],
   "source": [
    "from math import pi \n",
    "from math import *\n",
    "def compute_surface(radius, pi=math.pi): #Can have several outputs and variable number of arguments\n",
    "    return pi * radius * radius"
   ]
  },
  {
   "cell_type": "code",
   "execution_count": 8,
   "metadata": {},
   "outputs": [
    {
     "data": {
      "text/plain": [
       "(3.14, 3.141592653589793)"
      ]
     },
     "execution_count": 8,
     "metadata": {},
     "output_type": "execute_result"
    }
   ],
   "source": [
    "surface1 = compute_surface(1.,pi=3.14)\n",
    "surface2 = compute_surface(1.)\n",
    "\n",
    "surface1,surface2"
   ]
  },
  {
   "cell_type": "markdown",
   "metadata": {},
   "source": [
    "# Built In Types"
   ]
  },
  {
   "cell_type": "markdown",
   "metadata": {},
   "source": [
    "*The principal* built-in types are numerics, sequences, mappings, classes, instances and exceptions. "
   ]
  },
  {
   "cell_type": "markdown",
   "metadata": {},
   "source": [
    "> Numerics types: *int,float, complex*   \n",
    "\n",
    "> Sequence types:*list, tuple, range*   \n",
    "\n",
    "> Text Sequence types: *str*  \n",
    "\n",
    "> Binary Sequence types: *bytes, bytearray, memoryview*  \n",
    "\n",
    "> Mapping Types: *dict*  \n",
    "\n",
    "___"
   ]
  },
  {
   "cell_type": "markdown",
   "metadata": {},
   "source": [
    ">Best example of an ordered sequence of elements is lists (a type of data structure) and is mutable (changeable)\n",
    "\n",
    ">Each element or value that is inside of a list is called an item. "
   ]
  },
  {
   "cell_type": "markdown",
   "metadata": {},
   "source": [
    "**Lists**"
   ]
  },
  {
   "cell_type": "code",
   "execution_count": 9,
   "metadata": {
    "collapsed": true
   },
   "outputs": [],
   "source": [
    "a = [1,2,3,4]\n",
    "#same as\n",
    "a = range(0, 4)"
   ]
  },
  {
   "cell_type": "code",
   "execution_count": 10,
   "metadata": {},
   "outputs": [
    {
     "data": {
      "text/plain": [
       "3"
      ]
     },
     "execution_count": 10,
     "metadata": {},
     "output_type": "execute_result"
    }
   ],
   "source": [
    "a[-1]"
   ]
  },
  {
   "cell_type": "code",
   "execution_count": 11,
   "metadata": {
    "collapsed": true
   },
   "outputs": [],
   "source": [
    "#Cannot use an index out of range. a[4] or a[-4] are wrong. \n",
    "#slicing can be used to access a sub list using this syntax:\n",
    "#a[start:end:step] where start is 0 if not provided, the default value of end is the end of sequence. If step\n",
    "#not provided, the default value is 1. "
   ]
  },
  {
   "cell_type": "code",
   "execution_count": 12,
   "metadata": {},
   "outputs": [
    {
     "data": {
      "text/plain": [
       "range(1, 11, 4)"
      ]
     },
     "execution_count": 12,
     "metadata": {},
     "output_type": "execute_result"
    }
   ],
   "source": [
    "a = range(1,11)[::2] #accesses the even values of a range\n",
    "a[::2]\n",
    "#[0,2,4,6,8,10]"
   ]
  },
  {
   "cell_type": "markdown",
   "metadata": {},
   "source": [
    "*Summary:*"
   ]
  },
  {
   "cell_type": "code",
   "execution_count": null,
   "metadata": {
    "collapsed": true
   },
   "outputs": [],
   "source": []
  },
  {
   "cell_type": "code",
   "execution_count": null,
   "metadata": {},
   "outputs": [],
   "source": [
    "sequence:  type:      syntax:\n",
    "list       mutable    []\n",
    "tuple      immutable  ()\n",
    "dict       mutable    {}\n",
    "string     immutable  \"\""
   ]
  },
  {
   "cell_type": "markdown",
   "metadata": {},
   "source": [
    "**Dicts**"
   ]
  },
  {
   "cell_type": "code",
   "execution_count": 1,
   "metadata": {},
   "outputs": [
    {
     "name": "stdout",
     "output_type": "stream",
     "text": [
      "{'John': 123, 'Jane': 234, 'Jerard': 345}\n"
     ]
    }
   ],
   "source": [
    "phone_book = {\"John\": 123, \"Jane\": 234, \"Jerard\": 345}  # create new dictionary\n",
    "print(phone_book)"
   ]
  },
  {
   "cell_type": "code",
   "execution_count": 2,
   "metadata": {},
   "outputs": [
    {
     "name": "stdout",
     "output_type": "stream",
     "text": [
      "{'John': 123, 'Jane': 234, 'Jerard': 345, 'Jill': 456}\n"
     ]
    }
   ],
   "source": [
    "phone_book[\"Jill\"] = 456\n",
    "print(phone_book)"
   ]
  },
  {
   "cell_type": "code",
   "execution_count": 3,
   "metadata": {},
   "outputs": [
    {
     "name": "stdout",
     "output_type": "stream",
     "text": [
      "dict_keys(['John', 'Jane', 'Jerard', 'Jill'])\n"
     ]
    }
   ],
   "source": [
    "print(phone_book.keys())"
   ]
  },
  {
   "cell_type": "code",
   "execution_count": 4,
   "metadata": {},
   "outputs": [
    {
     "name": "stdout",
     "output_type": "stream",
     "text": [
      "dict_values([123, 234, 345, 456])\n"
     ]
    }
   ],
   "source": [
    "print(phone_book.values())"
   ]
  },
  {
   "cell_type": "markdown",
   "metadata": {},
   "source": [
    "# Iterators"
   ]
  },
  {
   "cell_type": "code",
   "execution_count": 13,
   "metadata": {
    "collapsed": true
   },
   "outputs": [],
   "source": [
    "#Iterators are objects that can be traversed through all the elements of a collection. "
   ]
  },
  {
   "cell_type": "markdown",
   "metadata": {},
   "source": [
    "> The __iter__() method returns the iterator object itself. If required, some initialization can be performed. \n",
    "> The __next__() method must return the next item in the sequence. On reaching the end, and in subsequent calls it must raies StopIteration"
   ]
  },
  {
   "cell_type": "code",
   "execution_count": 14,
   "metadata": {},
   "outputs": [
    {
     "name": "stdout",
     "output_type": "stream",
     "text": [
      "1\n"
     ]
    }
   ],
   "source": [
    "x= [1,2,3] #list (which is also an object), with each of the elements in the list being items\n",
    "ix = iter(x) #get an interator using iter()\n",
    "print(next(ix)) #iterate through it using next()"
   ]
  },
  {
   "cell_type": "code",
   "execution_count": 15,
   "metadata": {},
   "outputs": [
    {
     "name": "stdout",
     "output_type": "stream",
     "text": [
      "2\n"
     ]
    }
   ],
   "source": [
    "print(next(ix))"
   ]
  },
  {
   "cell_type": "code",
   "execution_count": 16,
   "metadata": {},
   "outputs": [
    {
     "name": "stdout",
     "output_type": "stream",
     "text": [
      "3\n"
     ]
    }
   ],
   "source": [
    "#next(obj) is same as obj.__next__()\n",
    "print(ix.__next__())"
   ]
  },
  {
   "cell_type": "code",
   "execution_count": 17,
   "metadata": {
    "collapsed": true
   },
   "outputs": [],
   "source": [
    "#Far more elegant way of automatically iterating is by using the 'for' loop. "
   ]
  },
  {
   "cell_type": "code",
   "execution_count": 18,
   "metadata": {},
   "outputs": [
    {
     "name": "stdout",
     "output_type": "stream",
     "text": [
      "1\n",
      "2\n",
      "3\n"
     ]
    }
   ],
   "source": [
    "for element in x: \n",
    "    print(element)"
   ]
  },
  {
   "cell_type": "markdown",
   "metadata": {},
   "source": [
    "**For and while loop**"
   ]
  },
  {
   "cell_type": "code",
   "execution_count": 26,
   "metadata": {},
   "outputs": [],
   "source": [
    "radius_list = [1., 10.]\n",
    "for radius in radius_list: #'in' is a membership operator, used to find a variable in a sequence\n",
    "    surface = compute_surface(radius) #the indentation delimits the scope of the loop, therefore no need for an end word."
   ]
  },
  {
   "cell_type": "code",
   "execution_count": 20,
   "metadata": {},
   "outputs": [
    {
     "name": "stdout",
     "output_type": "stream",
     "text": [
      "1\n",
      "5\n",
      "41\n"
     ]
    }
   ],
   "source": [
    "S = 0 \n",
    "while (S<100):\n",
    "    S += (S+1)**2\n",
    "    if S > 100:\n",
    "        break #the break statement causes the program to flow to exit the body of the while loop and resume the executiong of the \n",
    "    print (S) #program at the next statement after the while loop"
   ]
  },
  {
   "cell_type": "markdown",
   "metadata": {},
   "source": [
    "**Lambda Function**"
   ]
  },
  {
   "cell_type": "code",
   "execution_count": 21,
   "metadata": {},
   "outputs": [
    {
     "data": {
      "text/plain": [
       "0.9999999999999999"
      ]
     },
     "execution_count": 21,
     "metadata": {},
     "output_type": "execute_result"
    }
   ],
   "source": [
    "from math import pi, sqrt\n",
    "\n",
    "def compute_surface(radius):\n",
    "    return pi*radius*radius\n",
    "compute_surface(sqrt(1./pi)) #i.e sqrt(1/pi) is the same as the radius"
   ]
  },
  {
   "cell_type": "code",
   "execution_count": 22,
   "metadata": {},
   "outputs": [
    {
     "data": {
      "text/plain": [
       "0.9999999999999999"
      ]
     },
     "execution_count": 22,
     "metadata": {},
     "output_type": "execute_result"
    }
   ],
   "source": [
    "#Which is the same as (using lambda function)\n",
    "from math import pi, sqrt\n",
    "f = lambda r: pi*r*r #another way of making a function\n",
    "f(sqrt(1./pi))"
   ]
  },
  {
   "cell_type": "markdown",
   "metadata": {},
   "source": [
    "**Map Function**"
   ]
  },
  {
   "cell_type": "code",
   "execution_count": 23,
   "metadata": {},
   "outputs": [
    {
     "name": "stdout",
     "output_type": "stream",
     "text": [
      "<map object at 0x0000018D522842E8>\n"
     ]
    }
   ],
   "source": [
    "data = ['john','peter']\n",
    "result = map(lambda x: \"The name %s is %s letters long\" % (x,len(x)),data)\n",
    "print (result)"
   ]
  },
  {
   "cell_type": "code",
   "execution_count": null,
   "metadata": {
    "collapsed": true
   },
   "outputs": [],
   "source": []
  }
 ],
 "metadata": {
  "kernelspec": {
   "display_name": "Python 3",
   "language": "python",
   "name": "python3"
  },
  "language_info": {
   "codemirror_mode": {
    "name": "ipython",
    "version": 3
   },
   "file_extension": ".py",
   "mimetype": "text/x-python",
   "name": "python",
   "nbconvert_exporter": "python",
   "pygments_lexer": "ipython3",
   "version": "3.6.4"
  }
 },
 "nbformat": 4,
 "nbformat_minor": 2
}
