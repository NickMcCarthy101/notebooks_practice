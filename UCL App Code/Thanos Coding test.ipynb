{
 "cells": [
  {
   "cell_type": "code",
   "execution_count": 3,
   "metadata": {},
   "outputs": [],
   "source": [
    "\"\"\"\n",
    "\n",
    "Created on Sun Oct 29 00:13:27 2017\n",
    "\n",
    "\n",
    "@author: \n",
    "\"\"\"\n",
    "import sys\n",
    "import os\n",
    "import csv\n",
    "import nltk as nk\n",
    "# nk.download()\n",
    "from nltk.stem import PorterStemmer\n",
    "from nltk.tokenize import word_tokeniz8e\n",
    "from nltk.corpus import stopwords"
   ]
  },
  {
   "cell_type": "code",
   "execution_count": 4,
   "metadata": {
    "collapsed": true
   },
   "outputs": [],
   "source": [
    "class Sentence:\n",
    "    senCount = 0\n",
    "    def __init__(self, num, text, document_num):\n",
    "        self.num = num\n",
    "        self.text = text\n",
    "        self.document = document_num\n",
    "        Sentence.senCount += 1"
   ]
  },
  {
   "cell_type": "code",
   "execution_count": 5,
   "metadata": {},
   "outputs": [],
   "source": [
    "class Term:\n",
    "    def __init__(self, name, document_num, sentence_text):\n",
    "        termCount = 1\n",
    "        documentList = []\n",
    "        sentencesList = []\n",
    "        self.name = name\n",
    "        self.occur_count = termCount\n",
    "        self.documentList = documentList\n",
    "        self.documentList.append(document_num)\n",
    "        self.sentencesList = sentencesList\n",
    "        self.sentencesList.append(sentence_text)\n",
    "                                  \n",
    "    def increaseOccurrence(self):\n",
    "        self.occur_count += 1\n",
    "                                  \n",
    "    def addDocument(self, document_num):\n",
    "        if not self.documentList:\n",
    "            self.documentList.append(document_num)\n",
    "        else:\n",
    "            if document_num not in self.documentList:\n",
    "                self.documentList.append(document_num)\n",
    "                                  \n",
    "    def addSentence(self, sentence_text):\n",
    "        self.sentencesList.append(sentence_text)"
   ]
  },
  {
   "cell_type": "code",
   "execution_count": 6,
   "metadata": {
    "collapsed": true
   },
   "outputs": [],
   "source": [
    "def occurrences_table(ps, stop_words, document_num, lines):\n",
    "    terms = []\n",
    "    document = []\n",
    "    for line in lines:\n",
    "        count = 0\n",
    "        tokens = []\n",
    "        if line:\n",
    "            count += 1\n",
    "            sen_obj = Sentence(count, line, document_num)\n",
    "            document.append(sen_obj)\n",
    "            tokens_raw = word_tokenize(line)\n",
    "            tokens_raw = [token.lower() for token in tokens_raw if token.isalpha()]\n",
    "            for token in tokens_raw:\n",
    "                if token not in stop_words:\n",
    "                    tokens.append(ps.stem(token))\n",
    "            tokens = list(set(tokens))\n",
    "            for token in tokens:\n",
    "#                check if already exists in list of terms\n",
    "                flag = False\n",
    "                for term in terms:\n",
    "                    if term.name == token:\n",
    "                        flag = True\n",
    "                        term.addDocument(document_num)\n",
    "                        term.increaseOccurrence()\n",
    "                        term.addSentence(line)\n",
    "                if flag == False:\n",
    "                    term = Term(token, document_num, line)\n",
    "                    terms.append(term)\n",
    "        terms = sorted(terms, key=lambda term: term.occur_count, reverse=True)\n",
    "    return terms"
   ]
  },
  {
   "cell_type": "code",
   "execution_count": 7,
   "metadata": {
    "collapsed": true
   },
   "outputs": [],
   "source": [
    "def merge_obj(terms1, terms2):\n",
    "    for element2 in terms2:\n",
    "        found = False\n",
    "        for element1 in terms1:\n",
    "            if element1.name == element2.name:\n",
    "                element1.occur_count += element2.occur_count\n",
    "                element1.documentList += element2.documentList\n",
    "                element1.sentencesList += element2.sentencesList\n",
    "                found = True\n",
    "        if found == False:\n",
    "            terms1.append(element2)\n",
    "    return terms1"
   ]
  },
  {
   "cell_type": "code",
   "execution_count": 8,
   "metadata": {},
   "outputs": [],
   "source": [
    "#function to create csv easier for technical read/reuse\n",
    "def writeCSV(terms, top_results):\n",
    "    try:\n",
    "        os.remove('hashtags_out.csv')\n",
    "    except OSError:\n",
    "        pass\n",
    "    #    write the new file\n",
    "    with open('hashtags_out.csv', 'w', newline='') as csvfile:\n",
    "        writer = csv.writer(csvfile)\n",
    "        writer.writerow(('Word#', 'Occurrences', 'Documents', 'Sentences'))\n",
    "        if int(top_results) > len(terms):\n",
    "            top_results = len(terms)-1\n",
    "            print('%d hashtags exist.'%(len(terms)-1))\n",
    "        for term in terms[:int(top_results)]:\n",
    "            line = (term.name, term.occur_count, '\\n'.join('{}'.format(k) for k in term.documentList), '\\n'.join('{}: {}'.format(*k) for k in enumerate(term.sentencesList)))\n",
    "            writer.writerow(line)\n",
    "        "
   ]
  },
  {
   "cell_type": "code",
   "execution_count": 9,
   "metadata": {
    "collapsed": true
   },
   "outputs": [],
   "source": [
    "#function to create txt file for better presentation\n",
    "def writeTXT(terms, top_results):\n",
    "    try:\n",
    "        os.remove('hashtags_out.txt')\n",
    "    except OSError:\n",
    "        pass\n",
    "#    write the new file\n",
    "    with open('hashtags_out.txt', 'w') as file:\n",
    "        if int(top_results) > len(terms):\n",
    "            top_results = len(terms)-1\n",
    "            print('%d hashtags exist.' %(len(terms)-1))\n",
    "        for term in terms[:int(top_results)]:\n",
    "            file.write(('Word# :\\t' + term.name + '\\tOccurred: ' + str(term.occur_count) +' times\\n'))\n",
    "            file.write(('Found in documents: ' + ', '.join('{}'.format(k) for k in term.documentList) +'\\n'))\n",
    "            file.write('Sentences occurred:\\n\\t')\n",
    "            line = ('\\n\\t'.join('{}: {}'.format(*k) for k in enumerate(term.sentencesList)))\n",
    "            file.write(line +'\\n\\n')\n"
   ]
  },
  {
   "cell_type": "code",
   "execution_count": 15,
   "metadata": {},
   "outputs": [],
   "source": [
    "def hashtags(top_results):\n",
    "    # set stop_words\n",
    "    stop_words = set(stopwords.words('english'))\n",
    "    stop_words.add('us')\n",
    "    # create stem object\n",
    "    ps = PorterStemmer()\n",
    "    documents = ['doc1.1-Copy1.txt', 'doc2-Copy1.txt', 'doc3-Copy1.txt', 'doc4-Copy1.txt', 'doc5-Copy1.txt', 'doc6-Copy1.txt']\n",
    "    try:\n",
    "        with open(documents[0], 'r') as file:\n",
    "            data = file.read()\n",
    "    except:\n",
    "        with open(documents[0], 'r', encoding='utf8') as file:\n",
    "            data = file.read()\n",
    "    lines = data.splitlines()\n",
    "    terms = occurrences_table(ps, stop_words, file.name, lines)\n",
    "    for doc in documents[1:]:\n",
    "        try:\n",
    "            with open(doc, 'r') as file:\n",
    "                data = file.read()\n",
    "        except:\n",
    "            with open(doc, 'r', encoding='utf8') as file:\n",
    "                data = file.read()\n",
    "        lines = data.splitlines()\n",
    "        terms_temp = occurrences_table(ps, stop_words, file.name, lines)\n",
    "        terms = merge_obj(terms, terms_temp)\n",
    "    terms = sorted(terms, key=lambda term: term.occur_count, reverse=True)\n",
    "    return terms"
   ]
  },
  {
   "cell_type": "code",
   "execution_count": 16,
   "metadata": {
    "collapsed": true
   },
   "outputs": [],
   "source": [
    "def main(argv):\n",
    "#    arguments checks: if number and if only one number is provided\n",
    "    if len(argv) > 3 or len(argv) < 1:\n",
    "        print('Only the number of top results is required and \\'csv\\' option.')\n",
    "        print('Try again.')\n",
    "        sys.exit()\n",
    "    elif len(argv) == 1:\n",
    "        print('Default 20 top results will be printed')\n",
    "        terms = hashtags(20)\n",
    "        writeTXT(terms, 20)\n",
    "    elif len(argv) == 2:\n",
    "        if argv[1].isdigit():\n",
    "            terms = hashtags(argv[1])\n",
    "            writeTXT(terms, argv[1])\n",
    "        else:\n",
    "            print('Only a positive integer is accepted as an argument.')\n",
    "            print('Please try again.')\n",
    "            sys.exit()\n",
    "    elif len(argv) == 3:\n",
    "        if argv[1].isdigit():\n",
    "            csvSTR = ['csv', 'CSV', '.csv', 'Csv', 'excel', 'Excel']\n",
    "            if argv[2] in csvSTR:\n",
    "                terms = hashtags(argv[1])\n",
    "                writeCSV(terms, argv[1])\n",
    "            else:\n",
    "                print('Ignoring argument... Exporting txt file.')\n",
    "                terms = hashtags(argv[1])\n",
    "                writeTXT(terms, argv[1])\n",
    "        else:\n",
    "            print('Only a positive integer is accepted as an argument.')\n",
    "            print('Please try again.')\n",
    "            sys.exit()"
   ]
  },
  {
   "cell_type": "code",
   "execution_count": 17,
   "metadata": {},
   "outputs": [
    {
     "name": "stdout",
     "output_type": "stream",
     "text": [
      "Only a positive integer is accepted as an argument.\n",
      "Please try again.\n"
     ]
    },
    {
     "ename": "SystemExit",
     "evalue": "",
     "output_type": "error",
     "traceback": [
      "An exception has occurred, use %tb to see the full traceback.\n",
      "\u001b[1;31mSystemExit\u001b[0m\n"
     ]
    },
    {
     "name": "stderr",
     "output_type": "stream",
     "text": [
      "C:\\Users\\nick.mccarthy\\Anaconda3\\lib\\site-packages\\IPython\\core\\interactiveshell.py:2870: UserWarning: To exit: use 'exit', 'quit', or Ctrl-D.\n",
      "  warn(\"To exit: use 'exit', 'quit', or Ctrl-D.\", stacklevel=1)\n"
     ]
    }
   ],
   "source": [
    "if __name__ == \"__main__\":\n",
    "    main(sys.argv)"
   ]
  },
  {
   "cell_type": "code",
   "execution_count": 21,
   "metadata": {},
   "outputs": [],
   "source": [
    "top = 30\n",
    "terms = hashtags(top)\n",
    "writeCSV(terms, top)"
   ]
  },
  {
   "cell_type": "code",
   "execution_count": 22,
   "metadata": {},
   "outputs": [
    {
     "name": "stdout",
     "output_type": "stream",
     "text": [
      "Default 20 top results will be printed\n"
     ]
    },
    {
     "ename": "PermissionError",
     "evalue": "[Errno 13] Permission denied: 'hashtags_out.txt'",
     "output_type": "error",
     "traceback": [
      "\u001b[1;31m---------------------------------------------------------------------------\u001b[0m",
      "\u001b[1;31mPermissionError\u001b[0m                           Traceback (most recent call last)",
      "\u001b[1;32m<ipython-input-22-88afe4dfe830>\u001b[0m in \u001b[0;36m<module>\u001b[1;34m()\u001b[0m\n\u001b[0;32m      1\u001b[0m \u001b[0mtest\u001b[0m \u001b[1;33m=\u001b[0m \u001b[1;33m[\u001b[0m\u001b[1;36m20\u001b[0m\u001b[1;33m]\u001b[0m\u001b[1;33m\u001b[0m\u001b[0m\n\u001b[1;32m----> 2\u001b[1;33m \u001b[0mmain\u001b[0m\u001b[1;33m(\u001b[0m\u001b[0mtest\u001b[0m\u001b[1;33m)\u001b[0m\u001b[1;33m\u001b[0m\u001b[0m\n\u001b[0m",
      "\u001b[1;32m<ipython-input-16-f1ec96c7d07e>\u001b[0m in \u001b[0;36mmain\u001b[1;34m(argv)\u001b[0m\n\u001b[0;32m      8\u001b[0m         \u001b[0mprint\u001b[0m\u001b[1;33m(\u001b[0m\u001b[1;34m'Default 20 top results will be printed'\u001b[0m\u001b[1;33m)\u001b[0m\u001b[1;33m\u001b[0m\u001b[0m\n\u001b[0;32m      9\u001b[0m         \u001b[0mterms\u001b[0m \u001b[1;33m=\u001b[0m \u001b[0mhashtags\u001b[0m\u001b[1;33m(\u001b[0m\u001b[1;36m20\u001b[0m\u001b[1;33m)\u001b[0m\u001b[1;33m\u001b[0m\u001b[0m\n\u001b[1;32m---> 10\u001b[1;33m         \u001b[0mwriteTXT\u001b[0m\u001b[1;33m(\u001b[0m\u001b[0mterms\u001b[0m\u001b[1;33m,\u001b[0m \u001b[1;36m20\u001b[0m\u001b[1;33m)\u001b[0m\u001b[1;33m\u001b[0m\u001b[0m\n\u001b[0m\u001b[0;32m     11\u001b[0m     \u001b[1;32melif\u001b[0m \u001b[0mlen\u001b[0m\u001b[1;33m(\u001b[0m\u001b[0margv\u001b[0m\u001b[1;33m)\u001b[0m \u001b[1;33m==\u001b[0m \u001b[1;36m2\u001b[0m\u001b[1;33m:\u001b[0m\u001b[1;33m\u001b[0m\u001b[0m\n\u001b[0;32m     12\u001b[0m         \u001b[1;32mif\u001b[0m \u001b[0margv\u001b[0m\u001b[1;33m[\u001b[0m\u001b[1;36m1\u001b[0m\u001b[1;33m]\u001b[0m\u001b[1;33m.\u001b[0m\u001b[0misdigit\u001b[0m\u001b[1;33m(\u001b[0m\u001b[1;33m)\u001b[0m\u001b[1;33m:\u001b[0m\u001b[1;33m\u001b[0m\u001b[0m\n",
      "\u001b[1;32m<ipython-input-9-da534e36f9e7>\u001b[0m in \u001b[0;36mwriteTXT\u001b[1;34m(terms, top_results)\u001b[0m\n\u001b[0;32m      6\u001b[0m         \u001b[1;32mpass\u001b[0m\u001b[1;33m\u001b[0m\u001b[0m\n\u001b[0;32m      7\u001b[0m \u001b[1;31m#    write the new file\u001b[0m\u001b[1;33m\u001b[0m\u001b[1;33m\u001b[0m\u001b[0m\n\u001b[1;32m----> 8\u001b[1;33m     \u001b[1;32mwith\u001b[0m \u001b[0mopen\u001b[0m\u001b[1;33m(\u001b[0m\u001b[1;34m'hashtags_out.txt'\u001b[0m\u001b[1;33m,\u001b[0m \u001b[1;34m'w'\u001b[0m\u001b[1;33m)\u001b[0m \u001b[1;32mas\u001b[0m \u001b[0mfile\u001b[0m\u001b[1;33m:\u001b[0m\u001b[1;33m\u001b[0m\u001b[0m\n\u001b[0m\u001b[0;32m      9\u001b[0m         \u001b[1;32mif\u001b[0m \u001b[0mint\u001b[0m\u001b[1;33m(\u001b[0m\u001b[0mtop_results\u001b[0m\u001b[1;33m)\u001b[0m \u001b[1;33m>\u001b[0m \u001b[0mlen\u001b[0m\u001b[1;33m(\u001b[0m\u001b[0mterms\u001b[0m\u001b[1;33m)\u001b[0m\u001b[1;33m:\u001b[0m\u001b[1;33m\u001b[0m\u001b[0m\n\u001b[0;32m     10\u001b[0m             \u001b[0mtop_results\u001b[0m \u001b[1;33m=\u001b[0m \u001b[0mlen\u001b[0m\u001b[1;33m(\u001b[0m\u001b[0mterms\u001b[0m\u001b[1;33m)\u001b[0m\u001b[1;33m-\u001b[0m\u001b[1;36m1\u001b[0m\u001b[1;33m\u001b[0m\u001b[0m\n",
      "\u001b[1;31mPermissionError\u001b[0m: [Errno 13] Permission denied: 'hashtags_out.txt'"
     ]
    }
   ],
   "source": [
    "test = [20]\n",
    "main(test)"
   ]
  },
  {
   "cell_type": "code",
   "execution_count": null,
   "metadata": {
    "collapsed": true
   },
   "outputs": [],
   "source": []
  },
  {
   "cell_type": "code",
   "execution_count": null,
   "metadata": {
    "collapsed": true
   },
   "outputs": [],
   "source": []
  }
 ],
 "metadata": {
  "kernelspec": {
   "display_name": "Python 3",
   "language": "python",
   "name": "python3"
  },
  "language_info": {
   "codemirror_mode": {
    "name": "ipython",
    "version": 3
   },
   "file_extension": ".py",
   "mimetype": "text/x-python",
   "name": "python",
   "nbconvert_exporter": "python",
   "pygments_lexer": "ipython3",
   "version": "3.6.3"
  }
 },
 "nbformat": 4,
 "nbformat_minor": 2
}
